{
  "nbformat": 4,
  "nbformat_minor": 0,
  "metadata": {
    "colab": {
      "provenance": [],
      "authorship_tag": "ABX9TyPgJpX+ksq+BE+mKp2y3ohR",
      "include_colab_link": true
    },
    "kernelspec": {
      "name": "python3",
      "display_name": "Python 3"
    },
    "language_info": {
      "name": "python"
    }
  },
  "cells": [
    {
      "cell_type": "markdown",
      "metadata": {
        "id": "view-in-github",
        "colab_type": "text"
      },
      "source": [
        "<a href=\"https://colab.research.google.com/github/yunhyeok374/Python-study/blob/main/%08%EA%B3%BC%EC%A0%9C%EC%A0%9C%EC%B6%9C(%EC%97%B0%EC%8A%B5%EC%9A%A9).ipynb\" target=\"_parent\"><img src=\"https://colab.research.google.com/assets/colab-badge.svg\" alt=\"Open In Colab\"/></a>"
      ]
    },
    {
      "cell_type": "markdown",
      "source": [
        "# **테스트 코드**"
      ],
      "metadata": {
        "id": "AHpMJOni4srI"
      }
    },
    {
      "cell_type": "code",
      "source": [
        "# 테스트 코드 작성\n",
        "\n",
        "# q1 < q2\n",
        "\n",
        "def ItFrac(q1, q2):\n",
        "  x1, yㅣ1 = q1\n",
        "  x2, y2 = q2\n",
        "  return x1 * y2 < x2 * y1\n",
        "\n",
        "\n",
        "def test_ItFrac():\n",
        "  assert ItFrac((1,2), (1, 3)) == False\n",
        "  assert ItFrac((3,5), (2, 3)) == True\n",
        "  assert ItFrac((1,4), (1, 4)) == False\n",
        "  assert ItFrac((0,1), (1, 1)) == True\n",
        "  assert ItFrac((5,1), (10, 5)) == False\n",
        "\n",
        "  # 분모가 0인 경우\n",
        "  assert ItFrac((1, 0), (1, 1)) == False\n",
        "  assert ItFrac((1, 1), (0, 0)) == False  \n",
        "\n",
        "\n",
        "test_ItFrac()\n",
        "\n",
        "\n",
        "\n",
        "\n",
        "# q1 > q2\n",
        "def gtFrac(q1, q2):\n",
        "  x1, y1 = q1 \n",
        "  x2, y2 = q2\n",
        "  return x1*y2 > x2*y1\n",
        "\n",
        "def test_gtFrac():\n",
        "  assert gtFrac((1,2), (1, 3)) == True \n",
        "  assert gtFrac((3,5), (2, 3)) == False\n",
        "  assert gtFrac((1,6), (1,7)) == True\n",
        "  assert gtFrac((5,5), (1,1)) == False\n",
        "  assert gtFrac((3,2), (1,2)) == True\n",
        "\n",
        "   # 분모가 0인 경우\n",
        "  assert ItFrac((1, 0), (1, 1)) == False\n",
        "  assert ItFrac((1, 1), (0, 0)) == False \n",
        "\n",
        "\n",
        "test_gtFrac()\n",
        "\n"
      ],
      "metadata": {
        "id": "-NwKHg-nqK9i"
      },
      "execution_count": null,
      "outputs": []
    },
    {
      "cell_type": "code",
      "source": [
        "#q1 <= q2  \n",
        "\n",
        "def leFrac(q1, q2):\n",
        "  x1, y1 = q1\n",
        "  x2, y2 = q2\n",
        "  return x1*y2 <= x2*y1\n",
        "\n",
        "\n",
        "def test_leFrac():\n",
        "    # 두 분수가 같은 경우\n",
        "    assert leFrac((1, 2), (1, 2)) == True\n",
        "\n",
        "    # 첫 번째 분수가 두 번째 분수보다 작은 경우\n",
        "    assert leFrac((1, 2), (1, 3)) == False\n",
        "    assert leFrac((2, 3), (3, 4)) == True\n",
        "\n",
        "    # 첫 번째 분수가 두 번째 분수보다 큰 경우\n",
        "    assert leFrac((1, 3), (1, 2)) == True\n",
        "    assert leFrac((3, 4), (2, 3)) == False\n",
        "\n",
        "    # 분모가 0인 경우\n",
        "    assert leFrac((1, 0), (1, 1)) == False\n",
        "    assert leFrac((1, 1), (0, 0)) == True\n",
        "\n",
        "test_leFrac() \n",
        "\n",
        "# q1 >= q2\n",
        "def geFrac(q1, q2):\n",
        "  x1, y1 = q1 \n",
        "  x2, y2 = q2\n",
        "  return x1*y2 >= x2*y1\n",
        "\n",
        "\n",
        "def test_geFrac():\n",
        "    # 두 분수가 같은 경우\n",
        "    assert geFrac((1, 2), (1, 2)) == True\n",
        "\n",
        "    # 첫 번째 분수가 두 번째 분수보다 큰 경우\n",
        "    assert geFrac((1, 2), (1, 3)) == True\n",
        "    assert geFrac((3, 4), (2, 3)) == True\n",
        "\n",
        "    # 첫 번째 분수가 두 번째 분수보다 작은 경우\n",
        "    assert geFrac((1, 3), (1, 2)) == False\n",
        "    assert geFrac((2, 3), (3, 4)) == False\n",
        "\n",
        "    # 분모가 0인 경우\n",
        "    assert geFrac((1, 0), (1, 1)) == True\n",
        "    assert geFrac((1, 1), (0, 0)) == True\n",
        "\n",
        "test_geFrac() \n",
        "\n",
        "\n",
        "# q1 == q2\n",
        "def eqFrac(q1, q2):\n",
        "  x1, y1 = q1 \n",
        "  x2, y2 = q2\n",
        "  return x1*y2 == x2*y1\n",
        "\n",
        "\n",
        "def test_eqFrac():\n",
        "    # 두 분수가 같은 경우\n",
        "    assert eqFrac((1, 2), (1, 2)) == True\n",
        "    assert eqFrac((2, 3), (4, 6)) == True\n",
        "\n",
        "    # 두 분수가 다른 경우\n",
        "    assert eqFrac((1, 2), (1, 3)) == False\n",
        "    assert eqFrac((2, 3), (3, 4)) == False\n",
        "\n",
        "    # 분모가 0인 경우\n",
        "    assert eqFrac((1, 0), (1, 1)) == False\n",
        "    assert eqFrac((1, 1), (0, 0)) == True\n",
        "\n",
        "test_eqFrac() "
      ],
      "metadata": {
        "id": "6A4OtTjYoYq4"
      },
      "execution_count": null,
      "outputs": []
    },
    {
      "cell_type": "markdown",
      "source": [
        "# **1번**"
      ],
      "metadata": {
        "id": "b3ksFmSW45rM"
      }
    },
    {
      "cell_type": "code",
      "source": [
        "import math # math.lcm, math.gcd 등등 활용을 위해 import\n",
        "\n",
        "# 통분해서 계산하고 결과는 약분해서\n",
        "def addFrac(q1, q2):\n",
        "  pass\n",
        "\n",
        "# 통분해서 계산하고 결과는 약분해서\n",
        "def subFrac(q1, q2):\n",
        "  pass\n",
        "\n",
        "# q1을 q2로 나눈 몫(정수)과 나머지(유리수)를 순서쌍으로 리턴\n",
        "# 나머지도 유리수이므로 마찬가지로 약분한 결과로\n",
        "def divFrac(q1, q2):\n",
        "  pass"
      ],
      "metadata": {
        "id": "wa7fvHu4vl_B"
      },
      "execution_count": null,
      "outputs": []
    },
    {
      "cell_type": "code",
      "source": [
        "import math\n",
        "\n",
        "\n",
        "def addFrac(q1, q2):\n",
        "  x1, y1 = q1\n",
        "  x2, y2 = q2\n",
        "\n",
        "\n",
        "  # 최소 공배수 계산\n",
        "\n",
        "  lcm = (y1 * y2) // math.gcd(y1, y2)\n",
        "\n",
        "  # 분자를 공통 분모로 만들어서 더해주기\n",
        "\n",
        "  x = x1 * (lcm // y1) + x2 * (lcm // y2) \n",
        "\n",
        "  gcd = math.gcd(x, lcm)\n",
        "  x //= gcd\n",
        "  lcm //= gcd\n",
        "\n",
        "  return (x, lcm)\n",
        "\n",
        "\n",
        "  # addFrac 테스트 코드\n",
        "\n",
        "#case 1:\n",
        "def test_addFrac1():\n",
        "  q1 = (3, 4)\n",
        "  q2 = (1, 2)\n",
        "  result = addFrac(q1, q2)\n",
        "  return result\n",
        "\n",
        "test_addFrac1()\n",
        "\n",
        "#case 2: (약분이 가능한지 확인)\n",
        "def test_addFrac2():\n",
        "  q1 = (3 ,10)\n",
        "  q2 = (5, 10)\n",
        "  result = addFrac(q1, q2)\n",
        "  return result\n",
        "\n",
        "test_addFrac2()\n",
        "\n",
        "\n",
        "\n",
        "\n"
      ],
      "metadata": {
        "id": "JDVXDT8H0iVc"
      },
      "execution_count": null,
      "outputs": []
    },
    {
      "cell_type": "code",
      "source": [
        "import math\n",
        "\n",
        "def subFrac(q1, q2):\n",
        "  x1, y1 = q1\n",
        "  x2, y2 = q2\n",
        "\n",
        "\n",
        "  # 두 분수의 분모의 최소 공배수를 계산합니다.\n",
        "  lcm = (y1 * y2) // math.gcd(y1, y2)\n",
        "\n",
        "  #분자를 공통 분모로 만들어주고 빼주기\n",
        "  x = x1 * (lcm // y1) - x2 * (lcm // y2)\n",
        "\n",
        "  gcd = math.gcd(x, lcm)\n",
        "  x //= gcd\n",
        "  lcm //= gcd\n",
        "\n",
        "  return (x, lcm)\n",
        "\n",
        "\n",
        "  #subFrac 테스트 코드\n",
        "\n",
        "\n",
        "  #테스트 1: 두 분수의 분자가 같고 분모가 다른 경우\n",
        "\n",
        "  q1 = (3,4)\n",
        "  q2 = (3,8)\n",
        "  result = subFrac(q1,q2)\n",
        "  print(result)\n",
        "\n",
        "\n",
        "  #테스트 2: 두 분수의 분모가 같고 분자가 다른 경우\n",
        "  q1 = (1, 4)\n",
        "  q2 = (3, 4)\n",
        "  result = subFrac(q1, q2)\n",
        "  print(result)\n",
        "\n",
        "  #테스트 3: 두 분수의 분자와 분모가 모두 다른 경우\n",
        "  q1 = (1, 5)\n",
        "  q2 = (3, 7)\n",
        "  result = subFrac(q1, q2)\n",
        "  print(result)\n",
        "\n",
        "\n",
        "  \n",
        "\n"
      ],
      "metadata": {
        "id": "yfD3hv0y2KDd"
      },
      "execution_count": null,
      "outputs": []
    },
    {
      "cell_type": "code",
      "source": [
        "import  math\n",
        "\n",
        "def divFrac(q1,q2):\n",
        "  #분수 q1과 q2의 분자와 분모를 얻습니다.\n",
        "\n",
        "  x1, y1 = q1\n",
        "  x2, y2 = q2\n",
        "\n",
        "  # 두 분수를 나눈다\n",
        "\n",
        "  x = x1 * y2\n",
        "  y = x2 * y1\n",
        "\n",
        "\n",
        "  #결과 분수를 약분한다.\n",
        "\n",
        "  gcd = math.gcd(x, y)\n",
        "  x //= gcd\n",
        "  y //= gcd\n",
        "\n",
        "  return(x, y)\n",
        "\n",
        "\n",
        "#테스트 코드\n",
        "# 테스트 1: 두 분수의 분자와 분모가 모두 같은 경우\n",
        "\n",
        "q1 = (1, 2)\n",
        "q2 = (1, 2)\n",
        "result = divFrac(q1, q2)\n",
        "print(result)\n",
        "\n",
        "\n",
        "#테스트 2: 첫 번째 분수의 분자가 0인 경우\n",
        "q1 = (0, 3)\n",
        "q2 = (2, 5)\n",
        "result = divFrac(q1, q2)\n",
        "print(result)\n",
        "\n",
        "\n",
        "#테스트 3: 두 분수의 분모가 같고 분자가 서로 다른 경우\n",
        "q1 = (1, 4)\n",
        "q2 = (3, 4)\n",
        "result = divFrac(q1, q2)\n",
        "print(result)\n",
        "\n",
        "\n",
        "#테스트 4: 두 분수의 분자가 분모가 모두 다른 경우\n",
        "q1 = (1, 5)\n",
        "q2 = (3, 7)\n",
        "result = divFrac(q1, q2)\n",
        "print(result)\n",
        "\n"
      ],
      "metadata": {
        "id": "75UwxBAS3W2S",
        "colab": {
          "base_uri": "https://localhost:8080/"
        },
        "outputId": "2b1d9456-c1c1-495f-faf6-c7365dde9f26"
      },
      "execution_count": null,
      "outputs": [
        {
          "output_type": "stream",
          "name": "stdout",
          "text": [
            "(1, 1)\n",
            "(0, 1)\n",
            "(1, 3)\n",
            "(7, 15)\n"
          ]
        }
      ]
    },
    {
      "cell_type": "markdown",
      "source": [
        "# **문제 2번**"
      ],
      "metadata": {
        "id": "gsQKhYKV7DJI"
      }
    },
    {
      "cell_type": "code",
      "source": [
        "def digit2int(digit):\n",
        "    \"\"\"\n",
        "    문자로 된 숫자나 알파벳을 10진수 숫자로 변환하는 함수\n",
        "\n",
        "    :param digit: 문자로 된 숫자나 알파벳 (0~9, A~Z)\n",
        "    :return: 10진수 숫자\n",
        "    \"\"\"\n",
        "    if digit.isdigit():  # digit이 숫자인 경우\n",
        "        return int(digit)\n",
        "    else:  # digit이 알파벳인 경우\n",
        "        return ord(digit) - ord('A') + 10\n",
        "\n",
        "\n",
        "        \n",
        "\n",
        "\n"
      ],
      "metadata": {
        "id": "CJ8hNKX19vGm"
      },
      "execution_count": null,
      "outputs": []
    },
    {
      "cell_type": "code",
      "source": [
        "def digit2int(digit):\n",
        "\n",
        "  if digit.isdigit():  # digit 이 숫자인 경우\n",
        "    return int(digit)\n",
        "  else:\n",
        "    return ord(digit) - ord('A') +10\n",
        "\n",
        "  \n",
        "\n",
        "def test_digit2int():\n",
        "    assert digit2int('0') == 0\n",
        "    assert digit2int('5') == 5\n",
        "    assert digit2int('9') == 9\n",
        "    assert digit2int('A') == 10\n",
        "    assert digit2int('B') == 11\n",
        "    assert digit2int('Z') == 35\n",
        "\n",
        "    print('All test cases pass')\n",
        "\n",
        "\n",
        "test_digit2int()\n"
      ],
      "metadata": {
        "colab": {
          "base_uri": "https://localhost:8080/"
        },
        "id": "iKjWLQyk-QoA",
        "outputId": "1606f1c7-2cb1-435f-df16-9b9c1da45242"
      },
      "execution_count": null,
      "outputs": [
        {
          "output_type": "stream",
          "name": "stdout",
          "text": [
            "All test cases pass\n"
          ]
        }
      ]
    },
    {
      "cell_type": "code",
      "source": [
        "print( int('ZZ',36) )\n",
        "print( 35*36 + 35 )"
      ],
      "metadata": {
        "colab": {
          "base_uri": "https://localhost:8080/"
        },
        "id": "qQUn5nmX-68Q",
        "outputId": "a158d360-887a-48a1-9fcd-8f4a0500f4d0"
      },
      "execution_count": null,
      "outputs": [
        {
          "output_type": "stream",
          "name": "stdout",
          "text": [
            "1295\n",
            "1295\n"
          ]
        }
      ]
    },
    {
      "cell_type": "code",
      "source": [
        "def convert_base_nat(mstr, m, n):\n",
        "    \"\"\"\n",
        "    m진법 자연수 mstr을 n진법 자연수로 변환하는 함수\n",
        "\n",
        "    :param mstr: m진법 자연수를 나타내는 문자열\n",
        "    :param m: m진법 (2 이상, 10 이하의 자연수)\n",
        "    :param n: n진법 (2 이상, 10 이하의 자연수)\n",
        "    :return: n진법 자연수를 나타내는 문자열\n",
        "    \"\"\"\n",
        "\n",
        "    # m진법 자연수를 10진법 자연수로 변환\n",
        "    decimal = 0\n",
        "    for i in range(len(mstr)):\n",
        "        decimal += int(mstr[i]) * m ** (len(mstr) - i - 1)\n",
        "\n",
        "    # 10진법 자연수를 n진법 자연수로 변환\n",
        "    result = ''\n",
        "    while decimal > 0:\n",
        "        result = str(decimal % n) + result\n",
        "        decimal //= n\n",
        "\n",
        "    return result if result else '0'\n",
        "\n",
        "\n",
        "    \n",
        "\n"
      ],
      "metadata": {
        "colab": {
          "base_uri": "https://localhost:8080/",
          "height": 35
        },
        "id": "ogARgtbq-YV0",
        "outputId": "e57e0b8d-5c39-4d12-f324-60930e5d3d8b"
      },
      "execution_count": null,
      "outputs": [
        {
          "output_type": "execute_result",
          "data": {
            "text/plain": [
              "'0b101'"
            ],
            "application/vnd.google.colaboratory.intrinsic+json": {
              "type": "string"
            }
          },
          "metadata": {},
          "execution_count": 83
        }
      ]
    },
    {
      "cell_type": "code",
      "source": [
        "def convert_base_nat(mstr, m, n):\n",
        "\n",
        "  #m 진법 자연수를 10진법 자연수로 변환\n",
        "  decimal = 0 \n",
        "  for i in range(len(mstr)):\n",
        "    decimal += int(mstr[i]) * m ** (len(mstr) - i -1)\n",
        "\n",
        "    #10 진법 자연수를 n 진법 자연수로 변환\n",
        "\n",
        "    result = '' \n",
        "    while decimal > 0:\n",
        "      result = str(decimal % n ) + result \n",
        "      deciaml //= n\n",
        "\n",
        "    return result if result else '0'\n",
        "\n",
        "  "
      ],
      "metadata": {
        "id": "j0F0zGWOAWyA"
      },
      "execution_count": null,
      "outputs": []
    },
    {
      "cell_type": "code",
      "source": [
        "def convert2binary(num):\n",
        "    temp = []\n",
        "\n",
        "    while True:\n",
        "        remainder = num % 2\n",
        "        num = num // 2\n",
        "        temp.append(remainder)\n",
        "        \n",
        "        if num < 2:\n",
        "            temp.append(num)\n",
        "            break\n",
        "\n",
        "    temp.reverse()\n",
        "    result = \"\".join(map(str, temp))\n",
        "    return result\n",
        "\n",
        "num = 25\n",
        "binary_num = convert2binary(num)\n",
        "print(binary_num)\n"
      ],
      "metadata": {
        "id": "FAm5SlznWpR4",
        "outputId": "ed21363e-e533-4b05-e2a2-322557904340",
        "colab": {
          "base_uri": "https://localhost:8080/"
        }
      },
      "execution_count": 5,
      "outputs": [
        {
          "output_type": "stream",
          "name": "stdout",
          "text": [
            "11001\n"
          ]
        }
      ]
    },
    {
      "cell_type": "code",
      "source": [
        "def convert2binary(num):\n",
        "  temp = []\n",
        "\n",
        "  while True:\n",
        "    remainder = num % 2\n",
        "    num = num // 2\n",
        "    temp.append(remainder)\n",
        "\n",
        "    if num < 2:\n",
        "      temp.append(num)\n",
        "      break\n",
        "\n",
        "  temp.reverse()\n",
        "  result = \"\".join(map(str, temp))\n",
        "  return result\n",
        "  \n",
        "num = 25\n",
        "binary_num = convert2binary(num)\n",
        "print(binary_num)\n",
        "\n",
        "\n",
        "def Testconvert2(num1):\n",
        "  temp1 = []\n",
        "\n",
        "  while True:\n",
        "    remainder = num1 % 8\n",
        "    num1 = num1 // 8\n",
        "    temp1.append(remainder)\n",
        "\n",
        "    if num1 < 8:\n",
        "      temp1.append(num1)\n",
        "      break\n",
        "\n",
        "  temp1.reverse()\n",
        "  result = \"\".join(map(str, temp1))\n",
        "  return result\n",
        "\n",
        "\n",
        "num1 = 15\n",
        "resule8 = Testconvert2(num1)\n",
        "print(resule8)\n",
        "\n",
        "  "
      ],
      "metadata": {
        "colab": {
          "base_uri": "https://localhost:8080/"
        },
        "id": "rPiPQQhI-mNE",
        "outputId": "3fcd8193-22f8-45d3-f10c-a8b30e8eba9f"
      },
      "execution_count": 9,
      "outputs": [
        {
          "output_type": "stream",
          "name": "stdout",
          "text": [
            "11001\n",
            "17\n"
          ]
        }
      ]
    },
    {
      "cell_type": "code",
      "source": [
        "result = ''\n",
        "\n",
        "def convert_base_nat(mstr, m, n):\n",
        "\n",
        "  # m진법에서 10진법로 변환하기.\n",
        "\n",
        "  num = 0 \n",
        "  for i in range(len(mstr)):\n",
        "    num += int(mstr[i]) * m **(len(mstr) - i - 1)\n",
        "\n",
        " # 10진법 에서 n진법으로 변환하기\n",
        "\n",
        "  while True:\n",
        "    reuslt += num % n\n",
        "    num = num // n\n",
        "\n",
        "    if num < n:\n",
        "      reuslt += n\n",
        "      break\n",
        "\n",
        "      \n",
        "\n",
        "\n",
        "    \n"
      ],
      "metadata": {
        "colab": {
          "base_uri": "https://localhost:8080/"
        },
        "id": "13bnQHZsByKG",
        "outputId": "9fa2d302-537b-443f-d24a-58a960c5798e"
      },
      "execution_count": 17,
      "outputs": [
        {
          "output_type": "stream",
          "name": "stdout",
          "text": [
            "None\n"
          ]
        }
      ]
    }
  ]
}